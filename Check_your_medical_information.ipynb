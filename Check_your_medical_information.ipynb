{
  "nbformat": 4,
  "nbformat_minor": 0,
  "metadata": {
    "colab": {
      "private_outputs": true,
      "provenance": [],
      "toc_visible": true,
      "authorship_tag": "ABX9TyP1IcBQByBSXDM5izt47O4/",
      "include_colab_link": true
    },
    "kernelspec": {
      "name": "python3",
      "display_name": "Python 3"
    },
    "language_info": {
      "name": "python"
    }
  },
  "cells": [
    {
      "cell_type": "markdown",
      "metadata": {
        "id": "view-in-github",
        "colab_type": "text"
      },
      "source": [
        "<a href=\"https://colab.research.google.com/github/shahd1995913/classification-the-fake-and-real-news/blob/main/Check_your_medical_information.ipynb\" target=\"_parent\"><img src=\"https://colab.research.google.com/assets/colab-badge.svg\" alt=\"Open In Colab\"/></a>"
      ]
    },
    {
      "cell_type": "code",
      "source": [
        "import pandas as pd\n",
        "     \n",
        "true = pd.read_csv('/content/truedata.csv' , encoding= 'unicode_escape')\n",
        "true.head(3)"
      ],
      "metadata": {
        "id": "_0OPxBKUt2HR"
      },
      "execution_count": null,
      "outputs": []
    },
    {
      "cell_type": "code",
      "source": [
        "true.shape"
      ],
      "metadata": {
        "id": "dda6fdUgvR02"
      },
      "execution_count": null,
      "outputs": []
    },
    {
      "cell_type": "code",
      "source": [
        "fake = pd.read_csv('/content/fakedata.csv' , encoding= 'unicode_escape')\n",
        "fake.shape"
      ],
      "metadata": {
        "id": "0I-1mVervUv6"
      },
      "execution_count": null,
      "outputs": []
    },
    {
      "cell_type": "code",
      "source": [
        "true['label'] = 1\n",
        "fake['label'] = 0"
      ],
      "metadata": {
        "id": "x1AOloAZvXkO"
      },
      "execution_count": null,
      "outputs": []
    },
    {
      "cell_type": "code",
      "source": [
        "frames = [true.loc[:150][:], fake.loc[:150][:]]"
      ],
      "metadata": {
        "id": "N7tvYJBDvjVx"
      },
      "execution_count": null,
      "outputs": []
    },
    {
      "cell_type": "code",
      "source": [
        "df = pd.concat(frames)\n"
      ],
      "metadata": {
        "id": "TpF5A1Huvm6N"
      },
      "execution_count": null,
      "outputs": []
    },
    {
      "cell_type": "code",
      "source": [
        "df.shape\n"
      ],
      "metadata": {
        "id": "r5vnd1K3vm8g"
      },
      "execution_count": null,
      "outputs": []
    },
    {
      "cell_type": "code",
      "source": [
        "df.head()"
      ],
      "metadata": {
        "id": "-yvf0uYQvnAA"
      },
      "execution_count": null,
      "outputs": []
    },
    {
      "cell_type": "code",
      "source": [
        "X = df. drop('label', axis=1)\n",
        "y = df['label']\n",
        "     \n",
        "\n",
        "df = df.dropna()\n",
        "df2 = df.copy()\n",
        "     \n",
        "\n",
        "df2.head()"
      ],
      "metadata": {
        "id": "3IxxJTwXv2tz"
      },
      "execution_count": null,
      "outputs": []
    },
    {
      "cell_type": "code",
      "source": [
        "\n",
        "df2.reset_index(inplace=True)\n",
        "df2.head()\n",
        "     "
      ],
      "metadata": {
        "id": "0x5AcJY9v6Gy"
      },
      "execution_count": null,
      "outputs": []
    },
    {
      "cell_type": "code",
      "source": [
        "df2['title'][2]\n"
      ],
      "metadata": {
        "id": "K1tUov3Zv8p7"
      },
      "execution_count": null,
      "outputs": []
    },
    {
      "cell_type": "code",
      "source": [
        "from nltk.corpus import stopwords\n",
        "from nltk.stem.porter import PorterStemmer\n",
        "ps = PorterStemmer()\n",
        "     \n",
        "\n",
        "import re\n",
        "import nltk\n",
        "nltk.download('stopwords')\n",
        "\n",
        "corpus = []\n",
        "for i in range(0, len(df2)):\n",
        "    review = re.sub('[^a-zA-Z]', ' ', df2['text'][i])\n",
        "    review = review.lower()\n",
        "    review = review.split()\n",
        "    \n",
        "    review = [ps.stem(word) for word in review if not word in stopwords.words('english')]\n",
        "    review = ' '.join(review)\n",
        "    corpus.append(review)\n",
        "     "
      ],
      "metadata": {
        "id": "mhPtu_3Tv-5C"
      },
      "execution_count": null,
      "outputs": []
    },
    {
      "cell_type": "code",
      "source": [
        "# TFidf Vectorizer\n",
        "from sklearn.feature_extraction.text import TfidfVectorizer\n",
        "tfidf_v = TfidfVectorizer(max_features=5000, ngram_range=(1,3))\n",
        "     \n",
        "\n",
        "X = tfidf_v.fit_transform(corpus).toarray()\n",
        "y = df2['label']\n",
        "     \n",
        "\n",
        "# Divide the dataset into Train and Test\n",
        "from sklearn.model_selection import train_test_split\n",
        "X_train, X_test, y_train, y_test = train_test_split(X, y, test_size=0.2, random_state=0)"
      ],
      "metadata": {
        "id": "t1p93bagwCHn"
      },
      "execution_count": null,
      "outputs": []
    },
    {
      "cell_type": "code",
      "source": [
        "from sklearn.linear_model import PassiveAggressiveClassifier\n",
        "classifier = PassiveAggressiveClassifier(max_iter=1000)\n",
        "     \n",
        "\n",
        "from sklearn import metrics\n",
        "import numpy as np\n",
        "import itertools\n",
        "\n",
        "classifier.fit(X_train, y_train)\n",
        "\n",
        "pred = classifier.predict(X_test)\n",
        "\n",
        "score = metrics.accuracy_score(y_test, pred)\n",
        "print(\"accuracy:   %0.3f\" % score)"
      ],
      "metadata": {
        "id": "F9g8C34TwGaa"
      },
      "execution_count": null,
      "outputs": []
    },
    {
      "cell_type": "code",
      "source": [
        "import matplotlib.pyplot as plt\n",
        "\n",
        "def plot_confusion_matrix(cm, classes,\n",
        "                          normalize=False,\n",
        "                          title='Confusion matrix',\n",
        "                          cmap=plt.cm.Blues):\n",
        "    \"\"\"\n",
        "    See full source and example: \n",
        "    http://scikit-learn.org/stable/auto_examples/model_selection/plot_confusion_matrix.html\n",
        "    \n",
        "    This function prints and plots the confusion matrix.\n",
        "    Normalization can be applied by setting `normalize=True`.\n",
        "    \"\"\"\n",
        "    plt.imshow(cm, interpolation='nearest', cmap=cmap)\n",
        "    plt.title(title)\n",
        "    plt.colorbar()\n",
        "    tick_marks = np.arange(len(classes))\n",
        "    plt.xticks(tick_marks, classes, rotation=45)\n",
        "    plt.yticks(tick_marks, classes)\n",
        "\n",
        "    if normalize:\n",
        "        cm = cm.astype('float') / cm.sum(axis=1)[:, np.newaxis]\n",
        "        print(\"Normalized confusion matrix\")\n",
        "    else:\n",
        "        print('Confusion matrix, without normalization')\n",
        "\n",
        "    thresh = cm.max() / 2.\n",
        "    for i, j in itertools.product(range(cm.shape[0]), range(cm.shape[1])):\n",
        "        plt.text(j, i, cm[i, j],\n",
        "                 horizontalalignment=\"center\",\n",
        "                 color=\"white\" if cm[i, j] > thresh else \"black\")\n",
        "\n",
        "    plt.tight_layout()\n",
        "    plt.ylabel('True label')\n",
        "    plt.xlabel('Predicted label')\n",
        "     \n",
        "\n",
        "cm = metrics.confusion_matrix(y_test, pred)\n",
        "plot_confusion_matrix(cm, classes=['FAKE', 'REAL'])"
      ],
      "metadata": {
        "id": "dblTAvWmwMDD"
      },
      "execution_count": null,
      "outputs": []
    },
    {
      "cell_type": "code",
      "source": [
        "review = re.sub('[^a-zA-Z]', ' ', fake['text'][300])\n",
        "review = review.lower()\n",
        "review = review.split()\n",
        "    \n",
        "review = [ps.stem(word) for word in review if not word in stopwords.words('english')]\n",
        "review = ' '.join(review)\n",
        "review"
      ],
      "metadata": {
        "id": "Qh11E1nywTCC"
      },
      "execution_count": null,
      "outputs": []
    },
    {
      "cell_type": "code",
      "source": [
        "val = tfidf_v.transform([review]).toarray()\n",
        "     \n",
        "classifier.predict(val)"
      ],
      "metadata": {
        "id": "ffD25ohlwY7U"
      },
      "execution_count": null,
      "outputs": []
    },
    {
      "cell_type": "code",
      "source": [
        "import pickle\n",
        "     \n",
        "\n",
        "pickle.dump(classifier, open('model2.pkl', 'wb'))\n",
        "     \n",
        "\n",
        "pickle.dump(tfidf_v, open('tfidfvect2.pkl', 'wb'))"
      ],
      "metadata": {
        "id": "M-yaUjVOwdk-"
      },
      "execution_count": null,
      "outputs": []
    },
    {
      "cell_type": "code",
      "source": [
        "\n",
        "joblib_model = pickle.load(open('model2.pkl', 'rb'))\n",
        "     \n",
        "\n",
        "joblib_vect = pickle.load(open('tfidfvect2.pkl', 'rb'))\n",
        "     \n",
        "\n",
        "val_pkl = joblib_vect.transform([review]).toarray()\n",
        "     \n",
        "\n",
        "joblib_model.predict(val_pkl)"
      ],
      "metadata": {
        "id": "wmqGZD7ewgrg"
      },
      "execution_count": null,
      "outputs": []
    }
  ]
}